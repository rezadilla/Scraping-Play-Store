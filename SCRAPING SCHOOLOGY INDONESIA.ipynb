{
 "cells": [
  {
   "cell_type": "code",
   "execution_count": 5,
   "metadata": {},
   "outputs": [],
   "source": [
    "import time\n",
    "import re\n",
    "import pandas as pd\n",
    "\n",
    "from selenium import webdriver\n",
    "from selenium.webdriver.common.keys import Keys\n",
    "from selenium.webdriver.support import expected_conditions as EC\n",
    "from selenium.webdriver.support.ui import WebDriverWait\n",
    "from selenium.common.exceptions import TimeoutException\n",
    "from selenium.webdriver.common.by import By\n",
    "\n",
    "from tqdm import tqdm"
   ]
  },
  {
   "cell_type": "code",
   "execution_count": 7,
   "metadata": {},
   "outputs": [
    {
     "name": "stderr",
     "output_type": "stream",
     "text": [
      "100%|████████████████████████████████████████| 140/140 [08:21<00:00,  3.58s/it]\n"
     ]
    }
   ],
   "source": [
    "page_url = \"https://play.google.com/store/apps/details?id=com.schoology.app&hl=in&showAllReviews=true\"\n",
    "driver = webdriver.Chrome(\"C:/Users/Administrator/Reza/chromedriver_win32/chromedriver.exe\")\n",
    "driver.get(page_url)\n",
    "\n",
    "SCROLL_PAUSE_TIME = 3\n",
    "CYCLES = 140\n",
    "\n",
    "html = driver.find_element_by_tag_name('html')\n",
    "html.send_keys(Keys.PAGE_DOWN)  \n",
    "html.send_keys(Keys.PAGE_DOWN)  \n",
    "time.sleep(SCROLL_PAUSE_TIME * 3)\n",
    "\n",
    "for i in tqdm (range(CYCLES)):\n",
    "    html.send_keys(Keys.END)\n",
    "    time.sleep(SCROLL_PAUSE_TIME)"
   ]
  },
  {
   "cell_type": "code",
   "execution_count": 10,
   "metadata": {},
   "outputs": [],
   "source": [
    "v_komen = driver.find_elements_by_xpath('//*[@class = \"UD7Dzf\"]/span[1]')\n",
    "v_pengguna = driver.find_elements_by_xpath('//*[@class=\"bAhLNe kx8XBd\"]/span[@class = \"X43Kjb\"]')\n",
    "v_tanggal = driver.find_elements_by_xpath('//*[@class=\"bAhLNe kx8XBd\"]/div/span[@class=\"p2TkOb\"]')\n",
    "v_bintang = driver.find_elements_by_xpath('//*[@class=\"nt2C1d\"]/div[@class = \"pf5lIe\"]/div')"
   ]
  },
  {
   "cell_type": "code",
   "execution_count": 11,
   "metadata": {},
   "outputs": [
    {
     "name": "stderr",
     "output_type": "stream",
     "text": [
      "100%|████████████████████████████████████████| 573/573 [02:08<00:00,  4.46it/s]\n"
     ]
    }
   ],
   "source": [
    "pengguna = []\n",
    "tanggal = []\n",
    "komen = []\n",
    "\n",
    "number_of_items = len(v_pengguna)\n",
    "for berita in tqdm (range(number_of_items)):\n",
    "    pengguna.append(str(v_pengguna[berita].text))\n",
    "    tanggal.append(str(v_tanggal[berita].text))\n",
    "    komen.append(str(v_komen[berita].text))"
   ]
  },
  {
   "cell_type": "code",
   "execution_count": 12,
   "metadata": {},
   "outputs": [
    {
     "name": "stderr",
     "output_type": "stream",
     "text": [
      "100%|████████████████████████████████████████| 573/573 [00:24<00:00, 23.80it/s]\n"
     ]
    }
   ],
   "source": [
    "bintang = []\n",
    "for alamat in tqdm(v_bintang):\n",
    "    bintang.append(alamat.get_attribute('aria-label'))"
   ]
  },
  {
   "cell_type": "code",
   "execution_count": 13,
   "metadata": {},
   "outputs": [],
   "source": [
    "df = pd.DataFrame()\n",
    "df[\"Name\"] = pengguna\n",
    "df[\"Date\"] = tanggal\n",
    "df[\"Comment\"] = komen\n",
    "df[\"Star\"] = bintang"
   ]
  },
  {
   "cell_type": "code",
   "execution_count": 14,
   "metadata": {},
   "outputs": [],
   "source": [
    "df.to_csv(\"Komen Play Store Schoology.csv\")"
   ]
  },
  {
   "cell_type": "code",
   "execution_count": 15,
   "metadata": {},
   "outputs": [
    {
     "name": "stdout",
     "output_type": "stream",
     "text": [
      "                     Name               Date  \\\n",
      "0             Siti Rohmah       5 Maret 2020   \n",
      "1    Khairin Nabila Rizky   21 Februari 2020   \n",
      "2                 april앞릴    22 Januari 2020   \n",
      "3          Genta Rayendra       8 Maret 2020   \n",
      "4                  fabian    4 Desember 2019   \n",
      "..                    ...                ...   \n",
      "568           Fadhil Umar     7 Januari 2020   \n",
      "569              Mi Nggri       9 Maret 2017   \n",
      "570             Niken Ayu  18 September 2019   \n",
      "571      dylan marvin tan    2 Februari 2016   \n",
      "572      Annisa AyuNandri  12 September 2015   \n",
      "\n",
      "                                               Comment  \\\n",
      "0    3 aja bintang nya soal nya kalo lagi ngerjain ...   \n",
      "1    Masi suka telogout pas ngerjain soalnya, jadi ...   \n",
      "2    ini kenapa ya kak aku mau upload submission,fi...   \n",
      "3                              Ga guna, nyusahin murid   \n",
      "4    Karna aplikasi saya jadi susah nyontek buat bu...   \n",
      "..                                                 ...   \n",
      "568                                      mantap mantap   \n",
      "569                                                 👍👍   \n",
      "570                                                  👍   \n",
      "571                 Bruuuuuhhhhhh.....................   \n",
      "572                                                (Y)   \n",
      "\n",
      "                                       Star  \n",
      "0    Diberi rating 3 bintang dari 5 bintang  \n",
      "1    Diberi rating 1 bintang dari 5 bintang  \n",
      "2    Diberi rating 3 bintang dari 5 bintang  \n",
      "3    Diberi rating 1 bintang dari 5 bintang  \n",
      "4    Diberi rating 1 bintang dari 5 bintang  \n",
      "..                                      ...  \n",
      "568  Diberi rating 5 bintang dari 5 bintang  \n",
      "569  Diberi rating 4 bintang dari 5 bintang  \n",
      "570  Diberi rating 4 bintang dari 5 bintang  \n",
      "571  Diberi rating 5 bintang dari 5 bintang  \n",
      "572  Diberi rating 5 bintang dari 5 bintang  \n",
      "\n",
      "[573 rows x 4 columns]\n"
     ]
    }
   ],
   "source": [
    "print(df)"
   ]
  },
  {
   "cell_type": "code",
   "execution_count": null,
   "metadata": {},
   "outputs": [],
   "source": []
  }
 ],
 "metadata": {
  "kernelspec": {
   "display_name": "dilla",
   "language": "python",
   "name": "dilla"
  },
  "language_info": {
   "codemirror_mode": {
    "name": "ipython",
    "version": 3
   },
   "file_extension": ".py",
   "mimetype": "text/x-python",
   "name": "python",
   "nbconvert_exporter": "python",
   "pygments_lexer": "ipython3",
   "version": "3.7.7"
  }
 },
 "nbformat": 4,
 "nbformat_minor": 2
}
